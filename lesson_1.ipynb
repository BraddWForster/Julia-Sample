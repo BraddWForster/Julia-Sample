{
 "cells": [
  {
   "cell_type": "code",
   "execution_count": 2,
   "id": "17dd5449-d600-4dfc-b992-581379edcea5",
   "metadata": {},
   "outputs": [],
   "source": [
    "using LinearAlgebra, Statistics, Plots, LaTeXStrings"
   ]
  },
  {
   "cell_type": "code",
   "execution_count": 3,
   "id": "413ff0c5-f922-4283-a132-e0af7a01d48b",
   "metadata": {},
   "outputs": [
    {
     "data": {
      "text/plain": [
       "-0.7982282086003243"
      ]
     },
     "execution_count": 3,
     "metadata": {},
     "output_type": "execute_result"
    }
   ],
   "source": [
    "randn()"
   ]
  },
  {
   "cell_type": "code",
   "execution_count": 4,
   "id": "b5e212b9-2cfd-4457-8519-09cfaa7f603b",
   "metadata": {},
   "outputs": [
    {
     "data": {
      "image/svg+xml": [
       "<?xml version=\"1.0\" encoding=\"utf-8\"?>\n",
       "<svg xmlns=\"http://www.w3.org/2000/svg\" xmlns:xlink=\"http://www.w3.org/1999/xlink\" width=\"600\" height=\"400\" viewBox=\"0 0 2400 1600\">\n",
       "<defs>\n",
       "  <clipPath id=\"clip670\">\n",
       "    <rect x=\"0\" y=\"0\" width=\"2400\" height=\"1600\"/>\n",
       "  </clipPath>\n",
       "</defs>\n",
       "<path clip-path=\"url(#clip670)\" d=\"\n",
       "M0 1600 L2400 1600 L2400 0 L0 0  Z\n",
       "  \" fill=\"#ffffff\" fill-rule=\"evenodd\" fill-opacity=\"1\"/>\n",
       "<defs>\n",
       "  <clipPath id=\"clip671\">\n",
       "    <rect x=\"480\" y=\"0\" width=\"1681\" height=\"1600\"/>\n",
       "  </clipPath>\n",
       "</defs>\n",
       "<path clip-path=\"url(#clip670)\" d=\"\n",
       "M147.478 1486.45 L2352.76 1486.45 L2352.76 47.2441 L147.478 47.2441  Z\n",
       "  \" fill=\"#ffffff\" fill-rule=\"evenodd\" fill-opacity=\"1\"/>\n",
       "<defs>\n",
       "  <clipPath id=\"clip672\">\n",
       "    <rect x=\"147\" y=\"47\" width=\"2206\" height=\"1440\"/>\n",
       "  </clipPath>\n",
       "</defs>\n",
       "<polyline clip-path=\"url(#clip672)\" style=\"stroke:#000000; stroke-linecap:round; stroke-linejoin:round; stroke-width:2; stroke-opacity:0.1; fill:none\" points=\"\n",
       "  188.877,1486.45 188.877,47.2441 \n",
       "  \"/>\n",
       "<polyline clip-path=\"url(#clip672)\" style=\"stroke:#000000; stroke-linecap:round; stroke-linejoin:round; stroke-width:2; stroke-opacity:0.1; fill:none\" points=\"\n",
       "  714.243,1486.45 714.243,47.2441 \n",
       "  \"/>\n",
       "<polyline clip-path=\"url(#clip672)\" style=\"stroke:#000000; stroke-linecap:round; stroke-linejoin:round; stroke-width:2; stroke-opacity:0.1; fill:none\" points=\"\n",
       "  1239.61,1486.45 1239.61,47.2441 \n",
       "  \"/>\n",
       "<polyline clip-path=\"url(#clip672)\" style=\"stroke:#000000; stroke-linecap:round; stroke-linejoin:round; stroke-width:2; stroke-opacity:0.1; fill:none\" points=\"\n",
       "  1764.98,1486.45 1764.98,47.2441 \n",
       "  \"/>\n",
       "<polyline clip-path=\"url(#clip672)\" style=\"stroke:#000000; stroke-linecap:round; stroke-linejoin:round; stroke-width:2; stroke-opacity:0.1; fill:none\" points=\"\n",
       "  2290.34,1486.45 2290.34,47.2441 \n",
       "  \"/>\n",
       "<polyline clip-path=\"url(#clip670)\" style=\"stroke:#000000; stroke-linecap:round; stroke-linejoin:round; stroke-width:4; stroke-opacity:1; fill:none\" points=\"\n",
       "  147.478,1486.45 2352.76,1486.45 \n",
       "  \"/>\n",
       "<polyline clip-path=\"url(#clip670)\" style=\"stroke:#000000; stroke-linecap:round; stroke-linejoin:round; stroke-width:4; stroke-opacity:1; fill:none\" points=\"\n",
       "  188.877,1486.45 188.877,1467.55 \n",
       "  \"/>\n",
       "<polyline clip-path=\"url(#clip670)\" style=\"stroke:#000000; stroke-linecap:round; stroke-linejoin:round; stroke-width:4; stroke-opacity:1; fill:none\" points=\"\n",
       "  714.243,1486.45 714.243,1467.55 \n",
       "  \"/>\n",
       "<polyline clip-path=\"url(#clip670)\" style=\"stroke:#000000; stroke-linecap:round; stroke-linejoin:round; stroke-width:4; stroke-opacity:1; fill:none\" points=\"\n",
       "  1239.61,1486.45 1239.61,1467.55 \n",
       "  \"/>\n",
       "<polyline clip-path=\"url(#clip670)\" style=\"stroke:#000000; stroke-linecap:round; stroke-linejoin:round; stroke-width:4; stroke-opacity:1; fill:none\" points=\"\n",
       "  1764.98,1486.45 1764.98,1467.55 \n",
       "  \"/>\n",
       "<polyline clip-path=\"url(#clip670)\" style=\"stroke:#000000; stroke-linecap:round; stroke-linejoin:round; stroke-width:4; stroke-opacity:1; fill:none\" points=\"\n",
       "  2290.34,1486.45 2290.34,1467.55 \n",
       "  \"/>\n",
       "<path clip-path=\"url(#clip670)\" d=\"M188.877 1517.37 Q185.266 1517.37 183.437 1520.93 Q181.631 1524.47 181.631 1531.6 Q181.631 1538.71 183.437 1542.27 Q185.266 1545.82 188.877 1545.82 Q192.511 1545.82 194.317 1542.27 Q196.145 1538.71 196.145 1531.6 Q196.145 1524.47 194.317 1520.93 Q192.511 1517.37 188.877 1517.37 M188.877 1513.66 Q194.687 1513.66 197.742 1518.27 Q200.821 1522.85 200.821 1531.6 Q200.821 1540.33 197.742 1544.94 Q194.687 1549.52 188.877 1549.52 Q183.067 1549.52 179.988 1544.94 Q176.932 1540.33 176.932 1531.6 Q176.932 1522.85 179.988 1518.27 Q183.067 1513.66 188.877 1513.66 Z\" fill=\"#000000\" fill-rule=\"evenodd\" fill-opacity=\"1\" /><path clip-path=\"url(#clip670)\" d=\"M693.514 1544.91 L709.833 1544.91 L709.833 1548.85 L687.889 1548.85 L687.889 1544.91 Q690.551 1542.16 695.134 1537.53 Q699.741 1532.88 700.921 1531.53 Q703.167 1529.01 704.046 1527.27 Q704.949 1525.51 704.949 1523.82 Q704.949 1521.07 703.005 1519.33 Q701.084 1517.6 697.982 1517.6 Q695.783 1517.6 693.329 1518.36 Q690.898 1519.13 688.121 1520.68 L688.121 1515.95 Q690.945 1514.82 693.398 1514.24 Q695.852 1513.66 697.889 1513.66 Q703.259 1513.66 706.454 1516.35 Q709.648 1519.03 709.648 1523.52 Q709.648 1525.65 708.838 1527.57 Q708.051 1529.47 705.945 1532.07 Q705.366 1532.74 702.264 1535.95 Q699.162 1539.15 693.514 1544.91 Z\" fill=\"#000000\" fill-rule=\"evenodd\" fill-opacity=\"1\" /><path clip-path=\"url(#clip670)\" d=\"M719.695 1514.29 L738.051 1514.29 L738.051 1518.22 L723.977 1518.22 L723.977 1526.7 Q724.995 1526.35 726.014 1526.19 Q727.032 1526 728.051 1526 Q733.838 1526 737.218 1529.17 Q740.597 1532.34 740.597 1537.76 Q740.597 1543.34 737.125 1546.44 Q733.653 1549.52 727.333 1549.52 Q725.157 1549.52 722.889 1549.15 Q720.644 1548.78 718.236 1548.04 L718.236 1543.34 Q720.32 1544.47 722.542 1545.03 Q724.764 1545.58 727.241 1545.58 Q731.245 1545.58 733.583 1543.48 Q735.921 1541.37 735.921 1537.76 Q735.921 1534.15 733.583 1532.04 Q731.245 1529.94 727.241 1529.94 Q725.366 1529.94 723.491 1530.35 Q721.639 1530.77 719.695 1531.65 L719.695 1514.29 Z\" fill=\"#000000\" fill-rule=\"evenodd\" fill-opacity=\"1\" /><path clip-path=\"url(#clip670)\" d=\"M1214.31 1514.29 L1232.67 1514.29 L1232.67 1518.22 L1218.59 1518.22 L1218.59 1526.7 Q1219.61 1526.35 1220.63 1526.19 Q1221.65 1526 1222.67 1526 Q1228.45 1526 1231.83 1529.17 Q1235.21 1532.34 1235.21 1537.76 Q1235.21 1543.34 1231.74 1546.44 Q1228.27 1549.52 1221.95 1549.52 Q1219.77 1549.52 1217.5 1549.15 Q1215.26 1548.78 1212.85 1548.04 L1212.85 1543.34 Q1214.93 1544.47 1217.16 1545.03 Q1219.38 1545.58 1221.86 1545.58 Q1225.86 1545.58 1228.2 1543.48 Q1230.54 1541.37 1230.54 1537.76 Q1230.54 1534.15 1228.2 1532.04 Q1225.86 1529.94 1221.86 1529.94 Q1219.98 1529.94 1218.11 1530.35 Q1216.25 1530.77 1214.31 1531.65 L1214.31 1514.29 Z\" fill=\"#000000\" fill-rule=\"evenodd\" fill-opacity=\"1\" /><path clip-path=\"url(#clip670)\" d=\"M1254.42 1517.37 Q1250.81 1517.37 1248.98 1520.93 Q1247.18 1524.47 1247.18 1531.6 Q1247.18 1538.71 1248.98 1542.27 Q1250.81 1545.82 1254.42 1545.82 Q1258.06 1545.82 1259.86 1542.27 Q1261.69 1538.71 1261.69 1531.6 Q1261.69 1524.47 1259.86 1520.93 Q1258.06 1517.37 1254.42 1517.37 M1254.42 1513.66 Q1260.23 1513.66 1263.29 1518.27 Q1266.37 1522.85 1266.37 1531.6 Q1266.37 1540.33 1263.29 1544.94 Q1260.23 1549.52 1254.42 1549.52 Q1248.61 1549.52 1245.54 1544.94 Q1242.48 1540.33 1242.48 1531.6 Q1242.48 1522.85 1245.54 1518.27 Q1248.61 1513.66 1254.42 1513.66 Z\" fill=\"#000000\" fill-rule=\"evenodd\" fill-opacity=\"1\" /><path clip-path=\"url(#clip670)\" d=\"M1738.83 1514.29 L1761.05 1514.29 L1761.05 1516.28 L1748.51 1548.85 L1743.62 1548.85 L1755.43 1518.22 L1738.83 1518.22 L1738.83 1514.29 Z\" fill=\"#000000\" fill-rule=\"evenodd\" fill-opacity=\"1\" /><path clip-path=\"url(#clip670)\" d=\"M1770.22 1514.29 L1788.58 1514.29 L1788.58 1518.22 L1774.5 1518.22 L1774.5 1526.7 Q1775.52 1526.35 1776.54 1526.19 Q1777.56 1526 1778.58 1526 Q1784.36 1526 1787.74 1529.17 Q1791.12 1532.34 1791.12 1537.76 Q1791.12 1543.34 1787.65 1546.44 Q1784.18 1549.52 1777.86 1549.52 Q1775.68 1549.52 1773.41 1549.15 Q1771.17 1548.78 1768.76 1548.04 L1768.76 1543.34 Q1770.84 1544.47 1773.07 1545.03 Q1775.29 1545.58 1777.77 1545.58 Q1781.77 1545.58 1784.11 1543.48 Q1786.45 1541.37 1786.45 1537.76 Q1786.45 1534.15 1784.11 1532.04 Q1781.77 1529.94 1777.77 1529.94 Q1775.89 1529.94 1774.02 1530.35 Q1772.16 1530.77 1770.22 1531.65 L1770.22 1514.29 Z\" fill=\"#000000\" fill-rule=\"evenodd\" fill-opacity=\"1\" /><path clip-path=\"url(#clip670)\" d=\"M2249.95 1544.91 L2257.59 1544.91 L2257.59 1518.55 L2249.28 1520.21 L2249.28 1515.95 L2257.54 1514.29 L2262.22 1514.29 L2262.22 1544.91 L2269.86 1544.91 L2269.86 1548.85 L2249.95 1548.85 L2249.95 1544.91 Z\" fill=\"#000000\" fill-rule=\"evenodd\" fill-opacity=\"1\" /><path clip-path=\"url(#clip670)\" d=\"M2289.3 1517.37 Q2285.69 1517.37 2283.86 1520.93 Q2282.06 1524.47 2282.06 1531.6 Q2282.06 1538.71 2283.86 1542.27 Q2285.69 1545.82 2289.3 1545.82 Q2292.93 1545.82 2294.74 1542.27 Q2296.57 1538.71 2296.57 1531.6 Q2296.57 1524.47 2294.74 1520.93 Q2292.93 1517.37 2289.3 1517.37 M2289.3 1513.66 Q2295.11 1513.66 2298.17 1518.27 Q2301.25 1522.85 2301.25 1531.6 Q2301.25 1540.33 2298.17 1544.94 Q2295.11 1549.52 2289.3 1549.52 Q2283.49 1549.52 2280.41 1544.94 Q2277.36 1540.33 2277.36 1531.6 Q2277.36 1522.85 2280.41 1518.27 Q2283.49 1513.66 2289.3 1513.66 Z\" fill=\"#000000\" fill-rule=\"evenodd\" fill-opacity=\"1\" /><path clip-path=\"url(#clip670)\" d=\"M2319.46 1517.37 Q2315.85 1517.37 2314.02 1520.93 Q2312.22 1524.47 2312.22 1531.6 Q2312.22 1538.71 2314.02 1542.27 Q2315.85 1545.82 2319.46 1545.82 Q2323.1 1545.82 2324.9 1542.27 Q2326.73 1538.71 2326.73 1531.6 Q2326.73 1524.47 2324.9 1520.93 Q2323.1 1517.37 2319.46 1517.37 M2319.46 1513.66 Q2325.27 1513.66 2328.33 1518.27 Q2331.41 1522.85 2331.41 1531.6 Q2331.41 1540.33 2328.33 1544.94 Q2325.27 1549.52 2319.46 1549.52 Q2313.65 1549.52 2310.57 1544.94 Q2307.52 1540.33 2307.52 1531.6 Q2307.52 1522.85 2310.57 1518.27 Q2313.65 1513.66 2319.46 1513.66 Z\" fill=\"#000000\" fill-rule=\"evenodd\" fill-opacity=\"1\" /><polyline clip-path=\"url(#clip672)\" style=\"stroke:#000000; stroke-linecap:round; stroke-linejoin:round; stroke-width:2; stroke-opacity:0.1; fill:none\" points=\"\n",
       "  147.478,1403.84 2352.76,1403.84 \n",
       "  \"/>\n",
       "<polyline clip-path=\"url(#clip672)\" style=\"stroke:#000000; stroke-linecap:round; stroke-linejoin:round; stroke-width:2; stroke-opacity:0.1; fill:none\" points=\"\n",
       "  147.478,1090.55 2352.76,1090.55 \n",
       "  \"/>\n",
       "<polyline clip-path=\"url(#clip672)\" style=\"stroke:#000000; stroke-linecap:round; stroke-linejoin:round; stroke-width:2; stroke-opacity:0.1; fill:none\" points=\"\n",
       "  147.478,777.264 2352.76,777.264 \n",
       "  \"/>\n",
       "<polyline clip-path=\"url(#clip672)\" style=\"stroke:#000000; stroke-linecap:round; stroke-linejoin:round; stroke-width:2; stroke-opacity:0.1; fill:none\" points=\"\n",
       "  147.478,463.975 2352.76,463.975 \n",
       "  \"/>\n",
       "<polyline clip-path=\"url(#clip672)\" style=\"stroke:#000000; stroke-linecap:round; stroke-linejoin:round; stroke-width:2; stroke-opacity:0.1; fill:none\" points=\"\n",
       "  147.478,150.687 2352.76,150.687 \n",
       "  \"/>\n",
       "<polyline clip-path=\"url(#clip670)\" style=\"stroke:#000000; stroke-linecap:round; stroke-linejoin:round; stroke-width:4; stroke-opacity:1; fill:none\" points=\"\n",
       "  147.478,1486.45 147.478,47.2441 \n",
       "  \"/>\n",
       "<polyline clip-path=\"url(#clip670)\" style=\"stroke:#000000; stroke-linecap:round; stroke-linejoin:round; stroke-width:4; stroke-opacity:1; fill:none\" points=\"\n",
       "  147.478,1403.84 166.376,1403.84 \n",
       "  \"/>\n",
       "<polyline clip-path=\"url(#clip670)\" style=\"stroke:#000000; stroke-linecap:round; stroke-linejoin:round; stroke-width:4; stroke-opacity:1; fill:none\" points=\"\n",
       "  147.478,1090.55 166.376,1090.55 \n",
       "  \"/>\n",
       "<polyline clip-path=\"url(#clip670)\" style=\"stroke:#000000; stroke-linecap:round; stroke-linejoin:round; stroke-width:4; stroke-opacity:1; fill:none\" points=\"\n",
       "  147.478,777.264 166.376,777.264 \n",
       "  \"/>\n",
       "<polyline clip-path=\"url(#clip670)\" style=\"stroke:#000000; stroke-linecap:round; stroke-linejoin:round; stroke-width:4; stroke-opacity:1; fill:none\" points=\"\n",
       "  147.478,463.975 166.376,463.975 \n",
       "  \"/>\n",
       "<polyline clip-path=\"url(#clip670)\" style=\"stroke:#000000; stroke-linecap:round; stroke-linejoin:round; stroke-width:4; stroke-opacity:1; fill:none\" points=\"\n",
       "  147.478,150.687 166.376,150.687 \n",
       "  \"/>\n",
       "<path clip-path=\"url(#clip670)\" d=\"M51.3625 1404.29 L81.0383 1404.29 L81.0383 1408.23 L51.3625 1408.23 L51.3625 1404.29 Z\" fill=\"#000000\" fill-rule=\"evenodd\" fill-opacity=\"1\" /><path clip-path=\"url(#clip670)\" d=\"M95.1586 1417.19 L111.478 1417.19 L111.478 1421.12 L89.5336 1421.12 L89.5336 1417.19 Q92.1956 1414.43 96.7789 1409.8 Q101.385 1405.15 102.566 1403.81 Q104.811 1401.28 105.691 1399.55 Q106.594 1397.79 106.594 1396.1 Q106.594 1393.34 104.649 1391.61 Q102.728 1389.87 99.6261 1389.87 Q97.4271 1389.87 94.9734 1390.63 Q92.5428 1391.4 89.7651 1392.95 L89.7651 1388.23 Q92.5891 1387.09 95.0428 1386.51 Q97.4965 1385.94 99.5335 1385.94 Q104.904 1385.94 108.098 1388.62 Q111.293 1391.31 111.293 1395.8 Q111.293 1397.93 110.483 1399.85 Q109.696 1401.75 107.589 1404.34 Q107.01 1405.01 103.909 1408.23 Q100.807 1411.42 95.1586 1417.19 Z\" fill=\"#000000\" fill-rule=\"evenodd\" fill-opacity=\"1\" /><path clip-path=\"url(#clip670)\" d=\"M50.9921 1091 L80.6679 1091 L80.6679 1094.94 L50.9921 1094.94 L50.9921 1091 Z\" fill=\"#000000\" fill-rule=\"evenodd\" fill-opacity=\"1\" /><path clip-path=\"url(#clip670)\" d=\"M91.5706 1103.9 L99.2095 1103.9 L99.2095 1077.53 L90.8993 1079.2 L90.8993 1074.94 L99.1632 1073.27 L103.839 1073.27 L103.839 1103.9 L111.478 1103.9 L111.478 1107.83 L91.5706 1107.83 L91.5706 1103.9 Z\" fill=\"#000000\" fill-rule=\"evenodd\" fill-opacity=\"1\" /><path clip-path=\"url(#clip670)\" d=\"M99.5335 763.062 Q95.9224 763.062 94.0937 766.627 Q92.2882 770.169 92.2882 777.298 Q92.2882 784.405 94.0937 787.97 Q95.9224 791.511 99.5335 791.511 Q103.168 791.511 104.973 787.97 Q106.802 784.405 106.802 777.298 Q106.802 770.169 104.973 766.627 Q103.168 763.062 99.5335 763.062 M99.5335 759.359 Q105.344 759.359 108.399 763.965 Q111.478 768.548 111.478 777.298 Q111.478 786.025 108.399 790.632 Q105.344 795.215 99.5335 795.215 Q93.7234 795.215 90.6447 790.632 Q87.5892 786.025 87.5892 777.298 Q87.5892 768.548 90.6447 763.965 Q93.7234 759.359 99.5335 759.359 Z\" fill=\"#000000\" fill-rule=\"evenodd\" fill-opacity=\"1\" /><path clip-path=\"url(#clip670)\" d=\"M91.5706 477.32 L99.2095 477.32 L99.2095 450.954 L90.8993 452.621 L90.8993 448.362 L99.1632 446.695 L103.839 446.695 L103.839 477.32 L111.478 477.32 L111.478 481.255 L91.5706 481.255 L91.5706 477.32 Z\" fill=\"#000000\" fill-rule=\"evenodd\" fill-opacity=\"1\" /><path clip-path=\"url(#clip670)\" d=\"M95.1586 164.031 L111.478 164.031 L111.478 167.967 L89.5336 167.967 L89.5336 164.031 Q92.1956 161.277 96.7789 156.647 Q101.385 151.994 102.566 150.652 Q104.811 148.129 105.691 146.393 Q106.594 144.633 106.594 142.944 Q106.594 140.189 104.649 138.453 Q102.728 136.717 99.6261 136.717 Q97.4271 136.717 94.9734 137.481 Q92.5428 138.244 89.7651 139.795 L89.7651 135.073 Q92.5891 133.939 95.0428 133.36 Q97.4965 132.782 99.5335 132.782 Q104.904 132.782 108.098 135.467 Q111.293 138.152 111.293 142.643 Q111.293 144.772 110.483 146.693 Q109.696 148.592 107.589 151.184 Q107.01 151.855 103.909 155.073 Q100.807 158.268 95.1586 164.031 Z\" fill=\"#000000\" fill-rule=\"evenodd\" fill-opacity=\"1\" /><polyline clip-path=\"url(#clip672)\" style=\"stroke:#009af9; stroke-linecap:round; stroke-linejoin:round; stroke-width:4; stroke-opacity:1; fill:none\" points=\"\n",
       "  209.891,1242.67 230.906,411.808 251.921,443.701 272.935,1231.53 293.95,958.847 314.965,893.876 335.979,1103.41 356.994,662.02 378.009,693.069 399.023,978.926 \n",
       "  420.038,87.9763 441.053,1158.56 462.067,1254.24 483.082,321.237 504.097,765.516 525.111,989.386 546.126,813.942 567.141,751.195 588.155,641.825 609.17,320.565 \n",
       "  630.185,634.05 651.199,1054.58 672.214,1122.63 693.229,975.376 714.243,641.621 735.258,987.181 756.272,741.402 777.287,1044.69 798.302,309.241 819.316,529.289 \n",
       "  840.331,1147.77 861.346,1260.59 882.36,606.444 903.375,413.544 924.39,899.976 945.404,1430.24 966.419,1143.64 987.434,834.679 1008.45,332.904 1029.46,753.048 \n",
       "  1050.48,1265.55 1071.49,1445.72 1092.51,524.064 1113.52,628.91 1134.54,767.611 1155.55,750.58 1176.57,858.233 1197.58,1127.55 1218.59,841.962 1239.61,995.984 \n",
       "  1260.62,1228.54 1281.64,963.756 1302.65,826.034 1323.67,995.156 1344.68,706.378 1365.7,996.314 1386.71,705.105 1407.73,711.677 1428.74,1030.37 1449.76,524.773 \n",
       "  1470.77,618.83 1491.79,666.236 1512.8,266.419 1533.81,1175.61 1554.83,944.766 1575.84,856.827 1596.86,797.483 1617.87,922.126 1638.89,954.571 1659.9,653.618 \n",
       "  1680.92,1332.7 1701.93,889.31 1722.95,1306.75 1743.96,1012.33 1764.98,691.754 1785.99,1064.07 1807.01,786.969 1828.02,712.074 1849.03,494.702 1870.05,634 \n",
       "  1891.06,488.541 1912.08,608.078 1933.09,120.029 1954.11,1204.18 1975.12,564.023 1996.14,962.52 2017.15,1031.89 2038.17,442.186 2059.18,847.762 2080.2,337.405 \n",
       "  2101.21,596.554 2122.23,906.426 2143.24,650.805 2164.25,499.95 2185.27,1027.55 2206.28,206.85 2227.3,469.553 2248.31,895.654 2269.33,836.885 2290.34,1182.82 \n",
       "  \n",
       "  \"/>\n",
       "<path clip-path=\"url(#clip670)\" d=\"\n",
       "M2006.29 1438.47 L2279.25 1438.47 L2279.25 1334.79 L2006.29 1334.79  Z\n",
       "  \" fill=\"#ffffff\" fill-rule=\"evenodd\" fill-opacity=\"1\"/>\n",
       "<polyline clip-path=\"url(#clip670)\" style=\"stroke:#000000; stroke-linecap:round; stroke-linejoin:round; stroke-width:4; stroke-opacity:1; fill:none\" points=\"\n",
       "  2006.29,1438.47 2279.25,1438.47 2279.25,1334.79 2006.29,1334.79 2006.29,1438.47 \n",
       "  \"/>\n",
       "<polyline clip-path=\"url(#clip670)\" style=\"stroke:#009af9; stroke-linecap:round; stroke-linejoin:round; stroke-width:4; stroke-opacity:1; fill:none\" points=\"\n",
       "  2030.79,1386.63 2177.81,1386.63 \n",
       "  \"/>\n",
       "<path clip-path=\"url(#clip670)\" d=\"M2216.16 1406.32 Q2214.35 1410.95 2212.64 1412.36 Q2210.92 1413.78 2208.05 1413.78 L2204.65 1413.78 L2204.65 1410.21 L2207.15 1410.21 Q2208.91 1410.21 2209.88 1409.38 Q2210.85 1408.54 2212.04 1405.44 L2212.8 1403.5 L2202.31 1377.99 L2206.83 1377.99 L2214.93 1398.27 L2223.03 1377.99 L2227.54 1377.99 L2216.16 1406.32 Z\" fill=\"#000000\" fill-rule=\"evenodd\" fill-opacity=\"1\" /><path clip-path=\"url(#clip670)\" d=\"M2234.84 1399.98 L2242.48 1399.98 L2242.48 1373.61 L2234.16 1375.28 L2234.16 1371.02 L2242.43 1369.35 L2247.1 1369.35 L2247.1 1399.98 L2254.74 1399.98 L2254.74 1403.91 L2234.84 1403.91 L2234.84 1399.98 Z\" fill=\"#000000\" fill-rule=\"evenodd\" fill-opacity=\"1\" /></svg>\n"
      ]
     },
     "execution_count": 4,
     "metadata": {},
     "output_type": "execute_result"
    }
   ],
   "source": [
    "n = 100\n",
    "ϵ = randn(n)\n",
    "plot(1:n, ϵ)"
   ]
  },
  {
   "cell_type": "code",
   "execution_count": 5,
   "id": "b822e412-646b-46bd-9ab6-e195c88a8443",
   "metadata": {},
   "outputs": [
    {
     "data": {
      "text/plain": [
       "Vector{Float64}\u001b[90m (alias for \u001b[39m\u001b[90mArray{Float64, 1}\u001b[39m\u001b[90m)\u001b[39m"
      ]
     },
     "execution_count": 5,
     "metadata": {},
     "output_type": "execute_result"
    }
   ],
   "source": [
    "typeof(ϵ)"
   ]
  },
  {
   "cell_type": "code",
   "execution_count": 6,
   "id": "b5d3b989-d602-4a54-ab78-e1f4a0957f45",
   "metadata": {},
   "outputs": [
    {
     "data": {
      "text/plain": [
       "5-element Vector{Float64}:\n",
       " -1.4855617133969095\n",
       "  1.166512969796958\n",
       "  1.0647124219816604\n",
       " -1.4499847688058154\n",
       " -0.5796029525809251"
      ]
     },
     "execution_count": 6,
     "metadata": {},
     "output_type": "execute_result"
    }
   ],
   "source": [
    "ϵ[1:5]"
   ]
  },
  {
   "cell_type": "code",
   "execution_count": 7,
   "id": "92b99e05-c2e1-40f9-a1bf-068dc71d1c27",
   "metadata": {},
   "outputs": [],
   "source": [
    "# Poor style\n",
    "n = 100\n",
    "ϵ = zeros(n)\n",
    "for i in 1:n\n",
    "    ϵ[i] = randn()\n",
    "end"
   ]
  },
  {
   "cell_type": "code",
   "execution_count": 8,
   "id": "fef37e04-9f7c-4a65-8411-8a852360912b",
   "metadata": {},
   "outputs": [],
   "source": [
    "# better style\n",
    "n = 100\n",
    "ϵ = zeros(n)\n",
    "for i in eachindex(ϵ)\n",
    "    ϵ[i] = randn()\n",
    "end"
   ]
  },
  {
   "cell_type": "code",
   "execution_count": 10,
   "id": "611e6b00-e8b1-4129-bf04-8732b3ff91ab",
   "metadata": {},
   "outputs": [
    {
     "data": {
      "text/plain": [
       "0.2869470974976915"
      ]
     },
     "execution_count": 10,
     "metadata": {},
     "output_type": "execute_result"
    }
   ],
   "source": [
    "ϵ_sum = 0.0 # careful to use 0.0 here, instead of 0\n",
    "m = 5\n",
    "for ϵ_val in ϵ[1:m]\n",
    "    ϵ_sum = ϵ_sum + ϵ_val\n",
    "end\n",
    "ϵ_mean = ϵ_sum / m"
   ]
  },
  {
   "cell_type": "code",
   "execution_count": 11,
   "id": "24f8c2ca-6d62-4c59-86d6-e51f9483ffb9",
   "metadata": {},
   "outputs": [
    {
     "data": {
      "text/plain": [
       "true"
      ]
     },
     "execution_count": 11,
     "metadata": {},
     "output_type": "execute_result"
    }
   ],
   "source": [
    "ϵ_mean ≈ mean(ϵ[1:m])\n",
    "ϵ_mean ≈ sum(ϵ[1:m])/m"
   ]
  },
  {
   "cell_type": "code",
   "execution_count": 13,
   "id": "a08f0510-6006-46d7-830f-c6991cd50655",
   "metadata": {},
   "outputs": [
    {
     "data": {
      "image/svg+xml": [
       "<?xml version=\"1.0\" encoding=\"utf-8\"?>\n",
       "<svg xmlns=\"http://www.w3.org/2000/svg\" xmlns:xlink=\"http://www.w3.org/1999/xlink\" width=\"600\" height=\"400\" viewBox=\"0 0 2400 1600\">\n",
       "<defs>\n",
       "  <clipPath id=\"clip710\">\n",
       "    <rect x=\"0\" y=\"0\" width=\"2400\" height=\"1600\"/>\n",
       "  </clipPath>\n",
       "</defs>\n",
       "<path clip-path=\"url(#clip710)\" d=\"\n",
       "M0 1600 L2400 1600 L2400 0 L0 0  Z\n",
       "  \" fill=\"#ffffff\" fill-rule=\"evenodd\" fill-opacity=\"1\"/>\n",
       "<defs>\n",
       "  <clipPath id=\"clip711\">\n",
       "    <rect x=\"480\" y=\"0\" width=\"1681\" height=\"1600\"/>\n",
       "  </clipPath>\n",
       "</defs>\n",
       "<path clip-path=\"url(#clip710)\" d=\"\n",
       "M112.177 1486.45 L2352.76 1486.45 L2352.76 47.2441 L112.177 47.2441  Z\n",
       "  \" fill=\"#ffffff\" fill-rule=\"evenodd\" fill-opacity=\"1\"/>\n",
       "<defs>\n",
       "  <clipPath id=\"clip712\">\n",
       "    <rect x=\"112\" y=\"47\" width=\"2242\" height=\"1440\"/>\n",
       "  </clipPath>\n",
       "</defs>\n",
       "<polyline clip-path=\"url(#clip712)\" style=\"stroke:#000000; stroke-linecap:round; stroke-linejoin:round; stroke-width:2; stroke-opacity:0.1; fill:none\" points=\"\n",
       "  410.451,1486.45 410.451,47.2441 \n",
       "  \"/>\n",
       "<polyline clip-path=\"url(#clip712)\" style=\"stroke:#000000; stroke-linecap:round; stroke-linejoin:round; stroke-width:2; stroke-opacity:0.1; fill:none\" points=\"\n",
       "  880.174,1486.45 880.174,47.2441 \n",
       "  \"/>\n",
       "<polyline clip-path=\"url(#clip712)\" style=\"stroke:#000000; stroke-linecap:round; stroke-linejoin:round; stroke-width:2; stroke-opacity:0.1; fill:none\" points=\"\n",
       "  1349.9,1486.45 1349.9,47.2441 \n",
       "  \"/>\n",
       "<polyline clip-path=\"url(#clip712)\" style=\"stroke:#000000; stroke-linecap:round; stroke-linejoin:round; stroke-width:2; stroke-opacity:0.1; fill:none\" points=\"\n",
       "  1819.62,1486.45 1819.62,47.2441 \n",
       "  \"/>\n",
       "<polyline clip-path=\"url(#clip712)\" style=\"stroke:#000000; stroke-linecap:round; stroke-linejoin:round; stroke-width:2; stroke-opacity:0.1; fill:none\" points=\"\n",
       "  2289.34,1486.45 2289.34,47.2441 \n",
       "  \"/>\n",
       "<polyline clip-path=\"url(#clip710)\" style=\"stroke:#000000; stroke-linecap:round; stroke-linejoin:round; stroke-width:4; stroke-opacity:1; fill:none\" points=\"\n",
       "  112.177,1486.45 2352.76,1486.45 \n",
       "  \"/>\n",
       "<polyline clip-path=\"url(#clip710)\" style=\"stroke:#000000; stroke-linecap:round; stroke-linejoin:round; stroke-width:4; stroke-opacity:1; fill:none\" points=\"\n",
       "  410.451,1486.45 410.451,1467.55 \n",
       "  \"/>\n",
       "<polyline clip-path=\"url(#clip710)\" style=\"stroke:#000000; stroke-linecap:round; stroke-linejoin:round; stroke-width:4; stroke-opacity:1; fill:none\" points=\"\n",
       "  880.174,1486.45 880.174,1467.55 \n",
       "  \"/>\n",
       "<polyline clip-path=\"url(#clip710)\" style=\"stroke:#000000; stroke-linecap:round; stroke-linejoin:round; stroke-width:4; stroke-opacity:1; fill:none\" points=\"\n",
       "  1349.9,1486.45 1349.9,1467.55 \n",
       "  \"/>\n",
       "<polyline clip-path=\"url(#clip710)\" style=\"stroke:#000000; stroke-linecap:round; stroke-linejoin:round; stroke-width:4; stroke-opacity:1; fill:none\" points=\"\n",
       "  1819.62,1486.45 1819.62,1467.55 \n",
       "  \"/>\n",
       "<polyline clip-path=\"url(#clip710)\" style=\"stroke:#000000; stroke-linecap:round; stroke-linejoin:round; stroke-width:4; stroke-opacity:1; fill:none\" points=\"\n",
       "  2289.34,1486.45 2289.34,1467.55 \n",
       "  \"/>\n",
       "<path clip-path=\"url(#clip710)\" d=\"M405.104 1544.91 L421.423 1544.91 L421.423 1548.85 L399.479 1548.85 L399.479 1544.91 Q402.141 1542.16 406.724 1537.53 Q411.331 1532.88 412.511 1531.53 Q414.757 1529.01 415.636 1527.27 Q416.539 1525.51 416.539 1523.82 Q416.539 1521.07 414.595 1519.33 Q412.673 1517.6 409.572 1517.6 Q407.373 1517.6 404.919 1518.36 Q402.488 1519.13 399.711 1520.68 L399.711 1515.95 Q402.535 1514.82 404.988 1514.24 Q407.442 1513.66 409.479 1513.66 Q414.849 1513.66 418.044 1516.35 Q421.238 1519.03 421.238 1523.52 Q421.238 1525.65 420.428 1527.57 Q419.641 1529.47 417.535 1532.07 Q416.956 1532.74 413.854 1535.95 Q410.752 1539.15 405.104 1544.91 Z\" fill=\"#000000\" fill-rule=\"evenodd\" fill-opacity=\"1\" /><path clip-path=\"url(#clip710)\" d=\"M883.184 1518.36 L871.378 1536.81 L883.184 1536.81 L883.184 1518.36 M881.957 1514.29 L887.836 1514.29 L887.836 1536.81 L892.767 1536.81 L892.767 1540.7 L887.836 1540.7 L887.836 1548.85 L883.184 1548.85 L883.184 1540.7 L867.582 1540.7 L867.582 1536.19 L881.957 1514.29 Z\" fill=\"#000000\" fill-rule=\"evenodd\" fill-opacity=\"1\" /><path clip-path=\"url(#clip710)\" d=\"M1350.3 1529.7 Q1347.15 1529.7 1345.3 1531.86 Q1343.47 1534.01 1343.47 1537.76 Q1343.47 1541.49 1345.3 1543.66 Q1347.15 1545.82 1350.3 1545.82 Q1353.45 1545.82 1355.28 1543.66 Q1357.13 1541.49 1357.13 1537.76 Q1357.13 1534.01 1355.28 1531.86 Q1353.45 1529.7 1350.3 1529.7 M1359.58 1515.05 L1359.58 1519.31 Q1357.83 1518.48 1356.02 1518.04 Q1354.24 1517.6 1352.48 1517.6 Q1347.85 1517.6 1345.4 1520.72 Q1342.96 1523.85 1342.62 1530.17 Q1343.98 1528.15 1346.04 1527.09 Q1348.1 1526 1350.58 1526 Q1355.79 1526 1358.8 1529.17 Q1361.83 1532.32 1361.83 1537.76 Q1361.83 1543.08 1358.68 1546.3 Q1355.53 1549.52 1350.3 1549.52 Q1344.31 1549.52 1341.14 1544.94 Q1337.96 1540.33 1337.96 1531.6 Q1337.96 1523.41 1341.85 1518.55 Q1345.74 1513.66 1352.29 1513.66 Q1354.05 1513.66 1355.83 1514.01 Q1357.64 1514.36 1359.58 1515.05 Z\" fill=\"#000000\" fill-rule=\"evenodd\" fill-opacity=\"1\" /><path clip-path=\"url(#clip710)\" d=\"M1819.62 1532.44 Q1816.29 1532.44 1814.37 1534.22 Q1812.47 1536 1812.47 1539.13 Q1812.47 1542.25 1814.37 1544.03 Q1816.29 1545.82 1819.62 1545.82 Q1822.95 1545.82 1824.87 1544.03 Q1826.8 1542.23 1826.8 1539.13 Q1826.8 1536 1824.87 1534.22 Q1822.98 1532.44 1819.62 1532.44 M1814.94 1530.45 Q1811.94 1529.7 1810.25 1527.64 Q1808.58 1525.58 1808.58 1522.62 Q1808.58 1518.48 1811.52 1516.07 Q1814.48 1513.66 1819.62 1513.66 Q1824.78 1513.66 1827.72 1516.07 Q1830.66 1518.48 1830.66 1522.62 Q1830.66 1525.58 1828.97 1527.64 Q1827.31 1529.7 1824.32 1530.45 Q1827.7 1531.23 1829.57 1533.52 Q1831.47 1535.82 1831.47 1539.13 Q1831.47 1544.15 1828.39 1546.83 Q1825.34 1549.52 1819.62 1549.52 Q1813.9 1549.52 1810.82 1546.83 Q1807.77 1544.15 1807.77 1539.13 Q1807.77 1535.82 1809.67 1533.52 Q1811.56 1531.23 1814.94 1530.45 M1813.23 1523.06 Q1813.23 1525.75 1814.9 1527.25 Q1816.59 1528.76 1819.62 1528.76 Q1822.63 1528.76 1824.32 1527.25 Q1826.03 1525.75 1826.03 1523.06 Q1826.03 1520.38 1824.32 1518.87 Q1822.63 1517.37 1819.62 1517.37 Q1816.59 1517.37 1814.9 1518.87 Q1813.23 1520.38 1813.23 1523.06 Z\" fill=\"#000000\" fill-rule=\"evenodd\" fill-opacity=\"1\" /><path clip-path=\"url(#clip710)\" d=\"M2264.03 1544.91 L2271.67 1544.91 L2271.67 1518.55 L2263.36 1520.21 L2263.36 1515.95 L2271.62 1514.29 L2276.3 1514.29 L2276.3 1544.91 L2283.94 1544.91 L2283.94 1548.85 L2264.03 1548.85 L2264.03 1544.91 Z\" fill=\"#000000\" fill-rule=\"evenodd\" fill-opacity=\"1\" /><path clip-path=\"url(#clip710)\" d=\"M2303.38 1517.37 Q2299.77 1517.37 2297.94 1520.93 Q2296.14 1524.47 2296.14 1531.6 Q2296.14 1538.71 2297.94 1542.27 Q2299.77 1545.82 2303.38 1545.82 Q2307.02 1545.82 2308.82 1542.27 Q2310.65 1538.71 2310.65 1531.6 Q2310.65 1524.47 2308.82 1520.93 Q2307.02 1517.37 2303.38 1517.37 M2303.38 1513.66 Q2309.19 1513.66 2312.25 1518.27 Q2315.33 1522.85 2315.33 1531.6 Q2315.33 1540.33 2312.25 1544.94 Q2309.19 1549.52 2303.38 1549.52 Q2297.57 1549.52 2294.49 1544.94 Q2291.44 1540.33 2291.44 1531.6 Q2291.44 1522.85 2294.49 1518.27 Q2297.57 1513.66 2303.38 1513.66 Z\" fill=\"#000000\" fill-rule=\"evenodd\" fill-opacity=\"1\" /><polyline clip-path=\"url(#clip712)\" style=\"stroke:#000000; stroke-linecap:round; stroke-linejoin:round; stroke-width:2; stroke-opacity:0.1; fill:none\" points=\"\n",
       "  112.177,1445.75 2352.76,1445.75 \n",
       "  \"/>\n",
       "<polyline clip-path=\"url(#clip712)\" style=\"stroke:#000000; stroke-linecap:round; stroke-linejoin:round; stroke-width:2; stroke-opacity:0.1; fill:none\" points=\"\n",
       "  112.177,1206.1 2352.76,1206.1 \n",
       "  \"/>\n",
       "<polyline clip-path=\"url(#clip712)\" style=\"stroke:#000000; stroke-linecap:round; stroke-linejoin:round; stroke-width:2; stroke-opacity:0.1; fill:none\" points=\"\n",
       "  112.177,966.444 2352.76,966.444 \n",
       "  \"/>\n",
       "<polyline clip-path=\"url(#clip712)\" style=\"stroke:#000000; stroke-linecap:round; stroke-linejoin:round; stroke-width:2; stroke-opacity:0.1; fill:none\" points=\"\n",
       "  112.177,726.792 2352.76,726.792 \n",
       "  \"/>\n",
       "<polyline clip-path=\"url(#clip712)\" style=\"stroke:#000000; stroke-linecap:round; stroke-linejoin:round; stroke-width:2; stroke-opacity:0.1; fill:none\" points=\"\n",
       "  112.177,487.14 2352.76,487.14 \n",
       "  \"/>\n",
       "<polyline clip-path=\"url(#clip712)\" style=\"stroke:#000000; stroke-linecap:round; stroke-linejoin:round; stroke-width:2; stroke-opacity:0.1; fill:none\" points=\"\n",
       "  112.177,247.488 2352.76,247.488 \n",
       "  \"/>\n",
       "<polyline clip-path=\"url(#clip710)\" style=\"stroke:#000000; stroke-linecap:round; stroke-linejoin:round; stroke-width:4; stroke-opacity:1; fill:none\" points=\"\n",
       "  112.177,1486.45 112.177,47.2441 \n",
       "  \"/>\n",
       "<polyline clip-path=\"url(#clip710)\" style=\"stroke:#000000; stroke-linecap:round; stroke-linejoin:round; stroke-width:4; stroke-opacity:1; fill:none\" points=\"\n",
       "  112.177,1445.75 131.075,1445.75 \n",
       "  \"/>\n",
       "<polyline clip-path=\"url(#clip710)\" style=\"stroke:#000000; stroke-linecap:round; stroke-linejoin:round; stroke-width:4; stroke-opacity:1; fill:none\" points=\"\n",
       "  112.177,1206.1 131.075,1206.1 \n",
       "  \"/>\n",
       "<polyline clip-path=\"url(#clip710)\" style=\"stroke:#000000; stroke-linecap:round; stroke-linejoin:round; stroke-width:4; stroke-opacity:1; fill:none\" points=\"\n",
       "  112.177,966.444 131.075,966.444 \n",
       "  \"/>\n",
       "<polyline clip-path=\"url(#clip710)\" style=\"stroke:#000000; stroke-linecap:round; stroke-linejoin:round; stroke-width:4; stroke-opacity:1; fill:none\" points=\"\n",
       "  112.177,726.792 131.075,726.792 \n",
       "  \"/>\n",
       "<polyline clip-path=\"url(#clip710)\" style=\"stroke:#000000; stroke-linecap:round; stroke-linejoin:round; stroke-width:4; stroke-opacity:1; fill:none\" points=\"\n",
       "  112.177,487.14 131.075,487.14 \n",
       "  \"/>\n",
       "<polyline clip-path=\"url(#clip710)\" style=\"stroke:#000000; stroke-linecap:round; stroke-linejoin:round; stroke-width:4; stroke-opacity:1; fill:none\" points=\"\n",
       "  112.177,247.488 131.075,247.488 \n",
       "  \"/>\n",
       "<path clip-path=\"url(#clip710)\" d=\"M64.2328 1431.55 Q60.6217 1431.55 58.793 1435.11 Q56.9875 1438.65 56.9875 1445.78 Q56.9875 1452.89 58.793 1456.45 Q60.6217 1460 64.2328 1460 Q67.867 1460 69.6726 1456.45 Q71.5013 1452.89 71.5013 1445.78 Q71.5013 1438.65 69.6726 1435.11 Q67.867 1431.55 64.2328 1431.55 M64.2328 1427.84 Q70.0429 1427.84 73.0985 1432.45 Q76.1772 1437.03 76.1772 1445.78 Q76.1772 1454.51 73.0985 1459.12 Q70.0429 1463.7 64.2328 1463.7 Q58.4226 1463.7 55.344 1459.12 Q52.2884 1454.51 52.2884 1445.78 Q52.2884 1437.03 55.344 1432.45 Q58.4226 1427.84 64.2328 1427.84 Z\" fill=\"#000000\" fill-rule=\"evenodd\" fill-opacity=\"1\" /><path clip-path=\"url(#clip710)\" d=\"M56.2699 1219.44 L63.9087 1219.44 L63.9087 1193.08 L55.5986 1194.74 L55.5986 1190.48 L63.8624 1188.82 L68.5383 1188.82 L68.5383 1219.44 L76.1772 1219.44 L76.1772 1223.38 L56.2699 1223.38 L56.2699 1219.44 Z\" fill=\"#000000\" fill-rule=\"evenodd\" fill-opacity=\"1\" /><path clip-path=\"url(#clip710)\" d=\"M59.8578 979.789 L76.1772 979.789 L76.1772 983.724 L54.2328 983.724 L54.2328 979.789 Q56.8949 977.035 61.4782 972.405 Q66.0846 967.752 67.2652 966.41 Q69.5105 963.887 70.3902 962.15 Q71.2929 960.391 71.2929 958.701 Q71.2929 955.947 69.3485 954.211 Q67.4272 952.475 64.3254 952.475 Q62.1263 952.475 59.6726 953.238 Q57.2421 954.002 54.4643 955.553 L54.4643 950.831 Q57.2884 949.697 59.7421 949.118 Q62.1958 948.539 64.2328 948.539 Q69.6031 948.539 72.7976 951.225 Q75.992 953.91 75.992 958.4 Q75.992 960.53 75.1818 962.451 Q74.3948 964.349 72.2883 966.942 Q71.7096 967.613 68.6078 970.831 Q65.5059 974.025 59.8578 979.789 Z\" fill=\"#000000\" fill-rule=\"evenodd\" fill-opacity=\"1\" /><path clip-path=\"url(#clip710)\" d=\"M69.0476 725.438 Q72.404 726.156 74.279 728.424 Q76.1772 730.693 76.1772 734.026 Q76.1772 739.142 72.6587 741.943 Q69.1402 744.744 62.6587 744.744 Q60.4828 744.744 58.168 744.304 Q55.8764 743.887 53.4227 743.031 L53.4227 738.517 Q55.3671 739.651 57.6819 740.23 Q59.9967 740.809 62.5198 740.809 Q66.918 740.809 69.2096 739.072 Q71.5244 737.336 71.5244 734.026 Q71.5244 730.971 69.3717 729.258 Q67.242 727.522 63.4226 727.522 L59.3949 727.522 L59.3949 723.679 L63.6078 723.679 Q67.0569 723.679 68.8855 722.313 Q70.7142 720.924 70.7142 718.332 Q70.7142 715.67 68.8161 714.258 Q66.9411 712.823 63.4226 712.823 Q61.5013 712.823 59.3023 713.239 Q57.1032 713.656 54.4643 714.536 L54.4643 710.369 Q57.1264 709.628 59.4412 709.258 Q61.7791 708.887 63.8393 708.887 Q69.1633 708.887 72.2652 711.318 Q75.367 713.725 75.367 717.846 Q75.367 720.716 73.7235 722.707 Q72.08 724.674 69.0476 725.438 Z\" fill=\"#000000\" fill-rule=\"evenodd\" fill-opacity=\"1\" /><path clip-path=\"url(#clip710)\" d=\"M66.5939 473.935 L54.7884 492.383 L66.5939 492.383 L66.5939 473.935 M65.367 469.86 L71.2466 469.86 L71.2466 492.383 L76.1772 492.383 L76.1772 496.272 L71.2466 496.272 L71.2466 504.42 L66.5939 504.42 L66.5939 496.272 L50.9921 496.272 L50.9921 491.758 L65.367 469.86 Z\" fill=\"#000000\" fill-rule=\"evenodd\" fill-opacity=\"1\" /><path clip-path=\"url(#clip710)\" d=\"M55.2745 230.208 L73.6309 230.208 L73.6309 234.144 L59.5569 234.144 L59.5569 242.616 Q60.5754 242.269 61.5939 242.107 Q62.6124 241.921 63.6309 241.921 Q69.418 241.921 72.7976 245.093 Q76.1772 248.264 76.1772 253.681 Q76.1772 259.259 72.705 262.361 Q69.2328 265.44 62.9134 265.44 Q60.7374 265.44 58.4689 265.069 Q56.2236 264.699 53.8162 263.958 L53.8162 259.259 Q55.8995 260.394 58.1217 260.949 Q60.3439 261.505 62.8208 261.505 Q66.8254 261.505 69.1633 259.398 Q71.5013 257.292 71.5013 253.681 Q71.5013 250.07 69.1633 247.963 Q66.8254 245.857 62.8208 245.857 Q60.9458 245.857 59.0708 246.273 Q57.2189 246.69 55.2745 247.57 L55.2745 230.208 Z\" fill=\"#000000\" fill-rule=\"evenodd\" fill-opacity=\"1\" /><polyline clip-path=\"url(#clip712)\" style=\"stroke:#009af9; stroke-linecap:round; stroke-linejoin:round; stroke-width:4; stroke-opacity:1; fill:none\" points=\"\n",
       "  175.59,1445.08 410.451,1138.2 645.313,862.66 880.174,1192.15 1115.04,1412.27 1349.9,1251.38 1584.76,1285.72 1819.62,1158.15 2054.48,87.9763 2289.34,1445.72 \n",
       "  \n",
       "  \"/>\n",
       "<path clip-path=\"url(#clip710)\" d=\"\n",
       "M186.863 198.898 L463.351 198.898 L463.351 95.2176 L186.863 95.2176  Z\n",
       "  \" fill=\"#ffffff\" fill-rule=\"evenodd\" fill-opacity=\"1\"/>\n",
       "<polyline clip-path=\"url(#clip710)\" style=\"stroke:#000000; stroke-linecap:round; stroke-linejoin:round; stroke-width:4; stroke-opacity:1; fill:none\" points=\"\n",
       "  186.863,198.898 463.351,198.898 463.351,95.2176 186.863,95.2176 186.863,198.898 \n",
       "  \"/>\n",
       "<polyline clip-path=\"url(#clip710)\" style=\"stroke:#009af9; stroke-linecap:round; stroke-linejoin:round; stroke-width:4; stroke-opacity:1; fill:none\" points=\"\n",
       "  211.758,147.058 361.13,147.058 \n",
       "  \"/>\n",
       "<path clip-path=\"url(#clip710)\" d=\"M399.868 166.745 Q398.063 171.375 396.35 172.787 Q394.637 174.199 391.766 174.199 L388.364 174.199 L388.364 170.634 L390.864 170.634 Q392.623 170.634 393.595 169.8 Q394.567 168.967 395.748 165.865 L396.512 163.921 L386.026 138.412 L390.54 138.412 L398.641 158.689 L406.743 138.412 L411.257 138.412 L399.868 166.745 Z\" fill=\"#000000\" fill-rule=\"evenodd\" fill-opacity=\"1\" /><path clip-path=\"url(#clip710)\" d=\"M418.549 160.402 L426.188 160.402 L426.188 134.037 L417.877 135.703 L417.877 131.444 L426.141 129.778 L430.817 129.778 L430.817 160.402 L438.456 160.402 L438.456 164.338 L418.549 164.338 L418.549 160.402 Z\" fill=\"#000000\" fill-rule=\"evenodd\" fill-opacity=\"1\" /></svg>\n"
      ]
     },
     "execution_count": 13,
     "metadata": {},
     "output_type": "execute_result"
    }
   ],
   "source": [
    "# poor style\n",
    "function generatedata(n)\n",
    "    ϵ = zeros(n)\n",
    "    for i in eachindex(ϵ)\n",
    "        ϵ[i] = (randn())^2 # squaring the result\n",
    "    end\n",
    "    return ϵ\n",
    "end\n",
    "\n",
    "data = generatedata(10)\n",
    "plot(data)"
   ]
  },
  {
   "cell_type": "code",
   "execution_count": null,
   "id": "4f63c018-5bc2-4e67-9d92-1758f3a585d1",
   "metadata": {},
   "outputs": [],
   "source": [
    "#"
   ]
  }
 ],
 "metadata": {
  "kernelspec": {
   "display_name": "Julia 1.9.1",
   "language": "julia",
   "name": "julia-1.9"
  },
  "language_info": {
   "file_extension": ".jl",
   "mimetype": "application/julia",
   "name": "julia",
   "version": "1.9.1"
  }
 },
 "nbformat": 4,
 "nbformat_minor": 5
}
