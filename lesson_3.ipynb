{
 "cells": [
  {
   "cell_type": "code",
   "execution_count": 1,
   "metadata": {},
   "outputs": [],
   "source": [
    "##  This is my first attempt of lesson 3\n",
    "    ##\n",
    "    ##  Installing packages that we need\n",
    "    using LinearAlgebra, Statistics, Plots"
   ]
  },
  {
   "cell_type": "code",
   "execution_count": 3,
   "metadata": {},
   "outputs": [],
   "source": [
    "##  We will hopefully go through:\n",
    "    ##  common data types, \n",
    "    ##  iteration,\n",
    "    ##  more user defined functions,\n",
    "    ##  comparisons and logic"
   ]
  },
  {
   "cell_type": "code",
   "execution_count": 9,
   "metadata": {},
   "outputs": [
    {
     "data": {
      "text/plain": [
       "Int64"
      ]
     },
     "metadata": {},
     "output_type": "display_data"
    }
   ],
   "source": [
    "##  Primitive data types\n",
    "    ##\n",
    "    x = true\n",
    "\n",
    "    typeof(x)\n",
    "\n",
    "    y = 1 > 2   ##  Now show false\n",
    "\n",
    "##  The two most common data types used to represent numbers are intergers and flots\n",
    "    ##\n",
    "    typeof(1.0)\n",
    "\n",
    "    typeof(1)\n"
   ]
  },
  {
   "cell_type": "code",
   "execution_count": 15,
   "metadata": {},
   "outputs": [
    {
     "name": "stdout",
     "output_type": "stream",
     "text": [
      "2x - 3y = 1.0\n",
      "x + y = 3.0\n"
     ]
    },
    {
     "data": {
      "text/plain": [
       "3.0"
      ]
     },
     "metadata": {},
     "output_type": "display_data"
    }
   ],
   "source": [
    "##  Arithmetic operators\n",
    "    ##\n",
    "    x = 2;\n",
    "    y = 1.0;\n",
    "\n",
    "    x * y\n",
    "\n",
    "    x^2\n",
    "\n",
    "    y/x\n",
    "\n",
    "    2x - 3y\n",
    "\n",
    "    @show 2x - 3y\n",
    "    @show x + y;\n"
   ]
  },
  {
   "cell_type": "code",
   "execution_count": 18,
   "metadata": {},
   "outputs": [
    {
     "data": {
      "text/plain": [
       "5 + 0im"
      ]
     },
     "metadata": {},
     "output_type": "display_data"
    }
   ],
   "source": [
    "##  Complex numbers are another primitive data type, with the imaginery part being specified by im\n",
    "    ##\n",
    "    x = 1 + 2im\n",
    "\n",
    "    y = 1 - 2im\n",
    "\n",
    "    x * y   #   complex multiplication"
   ]
  },
  {
   "cell_type": "code",
   "execution_count": 29,
   "metadata": {},
   "outputs": [
    {
     "data": {
      "text/plain": [
       "RegexMatch(\"10\", 1=\"10\")"
      ]
     },
     "metadata": {},
     "output_type": "display_data"
    }
   ],
   "source": [
    "##  Strings are another type of primitive data\n",
    "    ##\n",
    "    x = \"foobar\"\n",
    "\n",
    "    typeof(x)\n",
    "\n",
    "    ##  Julia's string formatting operations\n",
    "        ##\n",
    "        x = 10;\n",
    "        y = 20;\n",
    "\n",
    "        \"x = $x\"\n",
    "    \n",
    "    ##  With parantheses you can splic the results of expresisions into strings as well\n",
    "        ##\n",
    "        \"x + y = $(x + y)\"\n",
    "\n",
    "    ##  To concatenate strings use *\n",
    "        ##\n",
    "        \"foo\" * \"bar\"\n",
    "\n",
    "    ##  Functions to work with strings\n",
    "        ##\n",
    "        s = \"Charlie don't surf\"\n",
    "\n",
    "        split(s)\n",
    "\n",
    "        replace(s, \"surf\" => \"ski\")\n",
    "\n",
    "        split(\"fee, fi, fo\", \",\")\n",
    "\n",
    "        strip(\" foobar \")\n",
    "\n",
    "        ##  find and replace  \n",
    "            ##\n",
    "            match(r\"(\\d+)\", \"Top 10\")   #   Find digits in string"
   ]
  },
  {
   "cell_type": "code",
   "execution_count": 40,
   "metadata": {},
   "outputs": [
    {
     "name": "stdout",
     "output_type": "stream",
     "text": [
      "word =foo, val = 1\n"
     ]
    },
    {
     "data": {
      "text/plain": [
       "(Tuple{String, Int64}, Tuple{String})"
      ]
     },
     "metadata": {},
     "output_type": "display_data"
    }
   ],
   "source": [
    "##  Containers\n",
    "    ##\n",
    "    ##  Several basic types of structuress for storing data\n",
    "        ##\n",
    "        ##  Arrays\n",
    "            ##\n",
    "            x = (\"foo\", \"bar\")\n",
    "            y = (\"foo\", 2)\n",
    "\n",
    "            typeof(x)\n",
    "            typeof(y)\n",
    "\n",
    "            function f()\n",
    "                return \"foo\", 1\n",
    "            end\n",
    "            f()\n",
    "    \n",
    "    ##  Tuples can also be unpacked directly into variables\n",
    "        ##\n",
    "        x = (\"foo\", 1)\n",
    "\n",
    "        word, val = x\n",
    "        \n",
    "        println(\"word =$word, val = $val\")\n",
    "\n",
    "    ##  Tuples can be created with a hanging, this is useful to create a tuple with one element\n",
    "        ##\n",
    "        x = (\"foo\", 1)\n",
    "        y = (\"foo\",)\n",
    "        typeof(x), typeof(y)\n"
   ]
  },
  {
   "cell_type": "code",
   "execution_count": 49,
   "metadata": {},
   "outputs": [
    {
     "data": {
      "text/plain": [
       "\"obar\""
      ]
     },
     "metadata": {},
     "output_type": "display_data"
    }
   ],
   "source": []
  },
  {
   "cell_type": "code",
   "execution_count": 50,
   "metadata": {},
   "outputs": [
    {
     "data": {
      "text/plain": [
       "\"obar\""
      ]
     },
     "metadata": {},
     "output_type": "display_data"
    }
   ],
   "source": [
    "##  Referencing items\n",
    "    ##\n",
    "    x = [10, 20, 30, 40]\n",
    "\n",
    "    x[end]\n",
    "\n",
    "    x[end - 1]\n",
    "\n",
    "    x[1:3]\n",
    "\n",
    "    x[2:end]\n",
    "\n",
    "    str = \"foobar\"\n",
    "\n",
    "    str[3:end]"
   ]
  },
  {
   "cell_type": "code",
   "execution_count": 54,
   "metadata": {},
   "outputs": [
    {
     "data": {
      "text/plain": [
       "ValueIterator for a Dict{String, Any} with 2 entries. Values:\n",
       "  \"Frodo\"\n",
       "  33"
      ]
     },
     "metadata": {},
     "output_type": "display_data"
    }
   ],
   "source": [
    "##  Dictionaries\n",
    "    ##\n",
    "    ##  Dictionaries are like arrays except that the items are named instead of numbered\n",
    "        ##\n",
    "        d = Dict(\"name\" => \"Frodo\", \"age\" => 33)\n",
    "\n",
    "    d[\"age\"]\n",
    "\n",
    "    ##  the strings 'name' and 'age' are called keys\n",
    "\n",
    "    ##  They can be accessed via keys(d) and values(d)\n",
    "        ##\n",
    "        keys(d)\n",
    "        values(d)\n"
   ]
  },
  {
   "cell_type": "code",
   "execution_count": 64,
   "metadata": {},
   "outputs": [
    {
     "name": "stdout",
     "output_type": "stream",
     "text": [
      "Charlie doesn't surf\n",
      "Charlie doesn't ski\n",
      "1\n",
      "4\n",
      "9\n",
      "16\n",
      "25\n",
      "The capital of Japan is Tokyo\n",
      "The capital of Korea is Seoul\n",
      "The capital of China is Bejing\n",
      "The capital of Japan is Tokyo\n",
      "The capital of Korea is Seoul\n",
      "The capital of China is Bejing\n"
     ]
    }
   ],
   "source": [
    "##  Iterating\n",
    "    ##\n",
    "    ##  An iterable is something that you can put on the right hand side of for and loop over\n",
    "        ##\n",
    "        actions = [\"surf\", \"ski\"]\n",
    "        for action in actions\n",
    "            println(\"Charlie doesn't $action\")\n",
    "        end\n",
    "\n",
    "    ##  If you ask for the keys of dictionary you get an iterator\n",
    "        ##\n",
    "        d = Dict(\"name\" => \"Frodo\", \"age\" => 33)\n",
    "\n",
    "        keys(d)\n",
    "\n",
    "    ##  Transform an terator into an array\n",
    "        ##\n",
    "        collect(keys(d))\n",
    "\n",
    "    ##  Looping without indicies\n",
    "        ##\n",
    "        x_values = 1:5\n",
    "\n",
    "        for x in x_values\n",
    "            println(x*x)\n",
    "        end\n",
    "\n",
    "    ##  Functional-style helper functions\n",
    "        ##\n",
    "        ##  zip() is used for stepping through pairs from two sequences\n",
    "            ##\n",
    "            countries = (\"Japan\", \"Korea\", \"China\")\n",
    "            cities = (\"Tokyo\", \"Seoul\", \"Bejing\")\n",
    "            for (country, city) in zip(countries, cities)\n",
    "                println(\"The capital of $country is $city\")\n",
    "            end\n",
    "\n",
    "        ##  If you need an index as well as the value\n",
    "            ##\n",
    "            countries = (\"Japan\", \"Korea\", \"China\")\n",
    "            cities = (\"Tokyo\", \"Seoul\", \"Bejing\")\n",
    "            for (i, country) in enumerate(countries)\n",
    "                city = cities[i]\n",
    "                println(\"The capital of $country is $city\")\n",
    "            end"
   ]
  },
  {
   "cell_type": "code",
   "execution_count": 3,
   "metadata": {},
   "outputs": [
    {
     "data": {
      "text/plain": [
       "2×3 Matrix{Tuple{Int64, String}}:\n",
       " (1, \"dog\")  (1, \"cat\")  (1, \"dog\")\n",
       " (2, \"dog\")  (2, \"cat\")  (2, \"dog\")"
      ]
     },
     "metadata": {},
     "output_type": "display_data"
    }
   ],
   "source": [
    "##  Comprehensions\n",
    "    ##\n",
    "    ##  A tool for creating new arrays, dictionaries, etc. from iterables\n",
    "        ##\n",
    "        doubles = [2i for i in 1:4]\n",
    "\n",
    "        animals = [\"dog\", \"cat\", \"dog\"];\n",
    "\n",
    "        plurals = [animal * \"s\" for animal in animals]\n",
    "\n",
    "        [i + j for i in 1:3, j in 4:6]\n",
    "\n",
    "        [i + j + k for i in 1:3, j in 4:6, k in 7:9]\n",
    "\n",
    "        [(i,j) for i in 1:2, j in animals]\n",
    "        \n",
    "\n",
    "        "
   ]
  },
  {
   "cell_type": "code",
   "execution_count": 7,
   "metadata": {},
   "outputs": [
    {
     "name": "stdout",
     "output_type": "stream",
     "text": [
      "sum(f_x2) = 333338333350000\n",
      "sum([f(x) for x = xs]) = 333338333350000\n"
     ]
    },
    {
     "name": "stdout",
     "output_type": "stream",
     "text": [
      "  54.300 μs (2 allocations: 781.30 KiB)"
     ]
    },
    {
     "name": "stdout",
     "output_type": "stream",
     "text": [
      "\n",
      "  63.100 μs (2 allocations: 781.30 KiB)\n"
     ]
    },
    {
     "name": "stdout",
     "output_type": "stream",
     "text": [
      "  2.400 ns (0 allocations: 0 bytes)\n"
     ]
    }
   ],
   "source": [
    "##  Generators\n",
    "    ##\n",
    "    ##  There are cases where you wish to use a comprehension to create an iterable list rather than making it a concreate array.\n",
    "        ##\n",
    "        ##  The benefit og this is that you can use functions which take general iterators rather than arrys without allocating and storing any temporary values.\n",
    "            ##\n",
    "            ##  Generate a temporary array of size 10,000 and find the sum\n",
    "                ##\n",
    "                xs = 1:100000\n",
    "                f(x) = x^2\n",
    "                f_x= f.(xs)\n",
    "                sum(f_x)\n",
    "\n",
    "                ##  We could have created the temporary using a comprehension\n",
    "                    ##\n",
    "                    f_x2 = [f(x) for x in xs]\n",
    "                    @show sum(f_x2)\n",
    "                    @show sum([f(x) for x in xs]);  ##  Still allocatesd temporary\n",
    "                    \n",
    "                    sum(f(x) for x in xs)\n",
    "\n",
    "            ##  Compare teh speed of these three measures\n",
    "                ##\n",
    "                using BenchmarkTools\n",
    "                @btime sum([f(x) for x in $xs])\n",
    "                @btime sum(f.($xs))\n",
    "                @btime sum(f(x) for x in $xs);"
   ]
  },
  {
   "cell_type": "code",
   "execution_count": 11,
   "metadata": {},
   "outputs": [
    {
     "data": {
      "text/plain": [
       "true"
      ]
     },
     "metadata": {},
     "output_type": "display_data"
    }
   ],
   "source": [
    "##  Comparisons and logical operators\n",
    "    ##\n",
    "    x =1\n",
    "    x == 2\n",
    "\n",
    "    x != 3\n",
    "\n",
    "    x + 1E-8 ≈ 1"
   ]
  },
  {
   "cell_type": "code",
   "execution_count": 13,
   "metadata": {},
   "outputs": [
    {
     "data": {
      "text/plain": [
       "true"
      ]
     },
     "metadata": {},
     "output_type": "display_data"
    }
   ],
   "source": [
    "##  Combining expressions\n",
    "    ##\n",
    "    true && false\n",
    "\n",
    "    true || false\n",
    "\n",
    "    "
   ]
  },
  {
   "cell_type": "code",
   "execution_count": 29,
   "metadata": {},
   "outputs": [
    {
     "data": {
      "text/plain": [
       "2.718281828459045"
      ]
     },
     "metadata": {},
     "output_type": "display_data"
    }
   ],
   "source": [
    "##  User defined functions\n",
    "    ##\n",
    "    function f1(a,b)\n",
    "        return a * b\n",
    "    end\n",
    "    \n",
    "    function f2(a, b)\n",
    "        a * b\n",
    "    end\n",
    "    \n",
    "    function foo(x)\n",
    "        if x > 0\n",
    "            return positive\n",
    "        end\n",
    "        return \"nonpositive\"\n",
    "    end\n",
    "\n",
    "    f(x) = sin( 1/ x)\n",
    "\n",
    "    f(1/pi)\n",
    "\n",
    "    map(x -> sin(1/x), randn(3)) #  Apply the function to each element\n",
    "\n",
    "    ##  Option and keyword arguments\n",
    "        ##\n",
    "        ##  Function arguemetns can be given default values\n",
    "            ##\n",
    "            f(x, a = 1) = exp(cos(a*x))\n",
    "\n",
    "            f(pi)\n",
    "\n",
    "            f(pi, 2)\n",
    "\n",
    "        ##  Another option is keyword arguments\n",
    "            ##\n",
    "            f(x; a = 1) = exp(cos(a * x)) # note the ; in the definition\n",
    "\n",
    "            f(pi; a = 2)    ##  The ; in this case for calling the function is optional and the last line could equivalently be f(pi, a = 2).\n",
    "\n",
    "            ##  For example\n",
    "                ##\n",
    "                a = 2\n",
    "                f(pi; a) #  equivalent to f(pi, a=a)\n",
    "        ##  The automatic naming of keyword arguements is also picked up automaticall when they are fields in named tuples or structs\n",
    "            ##\n",
    "            nt = (; a= 2, b = 10)\n",
    "            f(pi; nt.a)"
   ]
  },
  {
   "cell_type": "code",
   "execution_count": 47,
   "metadata": {},
   "outputs": [
    {
     "name": "stdout",
     "output_type": "stream",
     "text": [
      "f.(a, b) = [5 7 9]\n",
      "f.(a, 2) = [3 4 5]\n"
     ]
    },
    {
     "data": {
      "text/plain": [
       "2-element Vector{Int64}:\n",
       " 28\n",
       " 29"
      ]
     },
     "metadata": {},
     "output_type": "display_data"
    }
   ],
   "source": [
    "##  Broadcasting\n",
    "    ##\n",
    "    ##  A common scenario in computinf is that we have a function and we wish to apply it to every element of an iterable x_vec\n",
    "        ##\n",
    "        ##  Suppose that we want to apply sin to x_vec = [2.0, 4.0, 6.0, 8.0]\n",
    "            ##\n",
    "            x_vec = [2.0, 4.0, 6.0, 8.0]\n",
    "            y_vec = similar(x_vec)\n",
    "\n",
    "            for (i,x) in enumerate(x_vec)\n",
    "                y_vec[i] = sin(x)\n",
    "            end\n",
    "\n",
    "        ##  Or alternativel iterating with indices\n",
    "            ##\n",
    "            x_vec = [2.0, 4.0, 6.0, 8.0]\n",
    "            y_vec = similar(x_vec)\n",
    "            for i in eachindex(x_vec)\n",
    "                y_vec[i] = sin(x_vec[i])\n",
    "            end\n",
    "\n",
    "            ##  But this is a bit unwildy so Julia offers the alternative syntax:\n",
    "                ##\n",
    "                y_vec =sin.(x_vec)\n",
    "\n",
    "        ##  If f is any Julia function then f. references the broadcasted version\n",
    "            ##\n",
    "            function chisq(k)\n",
    "                @assert k > 0\n",
    "                z = randn(k)\n",
    "                return sum(z -> z^2, z) #   Same as 'sum(x^2 for x in z)'\n",
    "            end\n",
    "\n",
    "            chisq(3)\n",
    "\n",
    "            #chisq(-2)\n",
    "\n",
    "            ##  Can make this work on an array too\n",
    "                ##\n",
    "                chisq.([2, 4, 6])\n",
    "\n",
    "            ##  The broadcasting notion is not simply vectorisation, as it is also able to 'fuse' multiple broadcasts together to genreate an efficient code\n",
    "                ##\n",
    "                x = 1.0:1.0:5.0\n",
    "                y = [2.0, 4.0, 5.0, 6.0, 8.0]\n",
    "                z = similar(y)\n",
    "                z .= x .+ y .- sin.(x) # generates efficient code instead of many temporaries\n",
    "\n",
    "            ##  A convenience macro for broadcasting is \n",
    "                ##\n",
    "                @. z = x + y - sin(x)\n",
    "            \n",
    "            ##  The complier will fix anything which is scaler, and otherwise itterate across every vectorisation\n",
    "                ##\n",
    "                f(a, b) = a + b #   bivariate function\n",
    "                a = [1 2 3]\n",
    "                b = [4 5 6]\n",
    "                @show f.(a, b)  #   across both\n",
    "                @show f.(a, 2)  #   fix scaler for second\n",
    "\n",
    "                ##  Another place that you may use a Ref is to fix a function parameter you do not want to braodcast over.\n",
    "                    ##\n",
    "                    f(x, y) = [1, 2, 3] ⋅ x + y #   \".\" can be typed by \\cdot\n",
    "                    f([3, 4, 5], 2)  #   uses a vector as first parameter\n",
    "                    f.(Ref([3, 4, 5]), [2, 3])  #   broadcasting over 2nd parameter, fixing first"
   ]
  },
  {
   "cell_type": "code",
   "execution_count": 53,
   "metadata": {},
   "outputs": [
    {
     "name": "stdout",
     "output_type": "stream",
     "text": [
      "(; x = xval, y = yval) = (x = 0.1, y = 2)\n",
      "(; x = x, y = y) = (x = 0.1, y = 2)\n",
      "(; x, y) = (x = 0.1, y = 2)\n"
     ]
    }
   ],
   "source": [
    "##  Scoping and closures\n",
    "    ##\n",
    "    ##  Since global variables are usually a bad idea, we will concentrate on understanding the role of good local scoping practice.\n",
    "        ##\n",
    "        ##  Functions\n",
    "            ##\n",
    "            ##  the scope of a variable name determines where it is valid to refer to it\n",
    "            ##\n",
    "            f(x) = x^2 # local 'x' in scope\n",
    "\n",
    "            #   x is not bound to anything in this outer scope\n",
    "            y = 5\n",
    "            f(y)\n",
    "            \n",
    "        ##  This is equivallent if the y was changed to x, since its a different scope\n",
    "            ##\n",
    "            f(x) = x^2  #   local 'x' in scope\n",
    "\n",
    "            #   x is not bound to anything in this outer scope\n",
    "            x = 5   #   a different 'x' than the local name\n",
    "            f(x)\n",
    "\n",
    "        ##  The scoping also applies to named arguements in functions\n",
    "            ##\n",
    "            f(x; y =1) = x + y  #   'x' amd 'y' are names local to the 'f' functions\n",
    "            xval = 0.1\n",
    "            yval = 2\n",
    "            f(xval; y = yval)\n",
    "\n",
    "        ##  Due to scoping you could write this as\n",
    "            ##\n",
    "            f(x; y =1) = x + y\n",
    "            x = 0.1\n",
    "            y = 2\n",
    "            f(x; y ) #  the type and value of y taken from scope\n",
    "\n",
    "        ##  Similarly to named arguements, the local scope also works with named tuples.\n",
    "            ##\n",
    "            xval = 0.1\n",
    "            yval = 2\n",
    "\n",
    "            @show (; x = xval, y = yval)    #   named tuple with names 'x' and 'y'\n",
    "\n",
    "            x = 0.1\n",
    "            y = 2\n",
    "\n",
    "            ##  create a named tuple with names 'x' and 'y' local to the tuple\n",
    "            @show (; x = x, y = y)\n",
    "\n",
    "            #   Better yet\n",
    "            @show (;x,y);"
   ]
  },
  {
   "cell_type": "code",
   "execution_count": null,
   "metadata": {},
   "outputs": [],
   "source": []
  },
  {
   "cell_type": "code",
   "execution_count": null,
   "metadata": {},
   "outputs": [],
   "source": []
  },
  {
   "cell_type": "code",
   "execution_count": null,
   "metadata": {},
   "outputs": [],
   "source": []
  },
  {
   "cell_type": "code",
   "execution_count": null,
   "metadata": {},
   "outputs": [],
   "source": []
  },
  {
   "cell_type": "code",
   "execution_count": null,
   "metadata": {},
   "outputs": [],
   "source": []
  },
  {
   "cell_type": "code",
   "execution_count": null,
   "metadata": {},
   "outputs": [],
   "source": []
  }
 ],
 "metadata": {
  "kernelspec": {
   "display_name": "Julia 1.9.1",
   "language": "julia",
   "name": "julia-1.9"
  },
  "language_info": {
   "file_extension": ".jl",
   "mimetype": "application/julia",
   "name": "julia",
   "version": "1.9.1"
  },
  "orig_nbformat": 4
 },
 "nbformat": 4,
 "nbformat_minor": 2
}
