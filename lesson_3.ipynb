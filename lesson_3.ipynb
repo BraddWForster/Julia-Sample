{
 "cells": [
  {
   "cell_type": "code",
   "execution_count": 1,
   "metadata": {},
   "outputs": [],
   "source": [
    "##  This is my first attempt of lesson 3\n",
    "    ##\n",
    "    ##  Installing packages that we need\n",
    "    using LinearAlgebra, Statistics, Plots"
   ]
  },
  {
   "cell_type": "code",
   "execution_count": 3,
   "metadata": {},
   "outputs": [],
   "source": [
    "##  We will hopefully go through:\n",
    "    ##  common data types, \n",
    "    ##  iteration,\n",
    "    ##  more user defined functions,\n",
    "    ##  comparisons and logic"
   ]
  },
  {
   "cell_type": "code",
   "execution_count": 9,
   "metadata": {},
   "outputs": [
    {
     "data": {
      "text/plain": [
       "Int64"
      ]
     },
     "metadata": {},
     "output_type": "display_data"
    }
   ],
   "source": [
    "##  Primitive data types\n",
    "    ##\n",
    "    x = true\n",
    "\n",
    "    typeof(x)\n",
    "\n",
    "    y = 1 > 2   ##  Now show false\n",
    "\n",
    "##  The two most common data types used to represent numbers are intergers and flots\n",
    "    ##\n",
    "    typeof(1.0)\n",
    "\n",
    "    typeof(1)\n"
   ]
  },
  {
   "cell_type": "code",
   "execution_count": 15,
   "metadata": {},
   "outputs": [
    {
     "name": "stdout",
     "output_type": "stream",
     "text": [
      "2x - 3y = 1.0\n",
      "x + y = 3.0\n"
     ]
    },
    {
     "data": {
      "text/plain": [
       "3.0"
      ]
     },
     "metadata": {},
     "output_type": "display_data"
    }
   ],
   "source": [
    "##  Arithmetic operators\n",
    "    ##\n",
    "    x = 2;\n",
    "    y = 1.0;\n",
    "\n",
    "    x * y\n",
    "\n",
    "    x^2\n",
    "\n",
    "    y/x\n",
    "\n",
    "    2x - 3y\n",
    "\n",
    "    @show 2x - 3y\n",
    "    @show x + y;\n"
   ]
  },
  {
   "cell_type": "code",
   "execution_count": 18,
   "metadata": {},
   "outputs": [
    {
     "data": {
      "text/plain": [
       "5 + 0im"
      ]
     },
     "metadata": {},
     "output_type": "display_data"
    }
   ],
   "source": [
    "##  Complex numbers are another primitive data type, with the imaginery part being specified by im\n",
    "    ##\n",
    "    x = 1 + 2im\n",
    "\n",
    "    y = 1 - 2im\n",
    "\n",
    "    x * y   #   complex multiplication"
   ]
  },
  {
   "cell_type": "code",
   "execution_count": 29,
   "metadata": {},
   "outputs": [
    {
     "data": {
      "text/plain": [
       "RegexMatch(\"10\", 1=\"10\")"
      ]
     },
     "metadata": {},
     "output_type": "display_data"
    }
   ],
   "source": [
    "##  Strings are another type of primitive data\n",
    "    ##\n",
    "    x = \"foobar\"\n",
    "\n",
    "    typeof(x)\n",
    "\n",
    "    ##  Julia's string formatting operations\n",
    "        ##\n",
    "        x = 10;\n",
    "        y = 20;\n",
    "\n",
    "        \"x = $x\"\n",
    "    \n",
    "    ##  With parantheses you can splic the results of expresisions into strings as well\n",
    "        ##\n",
    "        \"x + y = $(x + y)\"\n",
    "\n",
    "    ##  To concatenate strings use *\n",
    "        ##\n",
    "        \"foo\" * \"bar\"\n",
    "\n",
    "    ##  Functions to work with strings\n",
    "        ##\n",
    "        s = \"Charlie don't surf\"\n",
    "\n",
    "        split(s)\n",
    "\n",
    "        replace(s, \"surf\" => \"ski\")\n",
    "\n",
    "        split(\"fee, fi, fo\", \",\")\n",
    "\n",
    "        strip(\" foobar \")\n",
    "\n",
    "        ##  find and replace  \n",
    "            ##\n",
    "            match(r\"(\\d+)\", \"Top 10\")   #   Find digits in string"
   ]
  },
  {
   "cell_type": "code",
   "execution_count": 36,
   "metadata": {},
   "outputs": [
    {
     "data": {
      "text/plain": [
       "(\"foo\", 1)"
      ]
     },
     "metadata": {},
     "output_type": "display_data"
    }
   ],
   "source": [
    "##  Containers\n",
    "    ##\n",
    "    ##  Several basic types of structuress for storing data\n",
    "        ##\n",
    "        ##  Arrays\n",
    "            ##\n",
    "            x = (\"foo\", \"bar\")\n",
    "            y = (\"foo\", 2)\n",
    "\n",
    "            typeof(x)\n",
    "            typeof(y)\n",
    "\n",
    "            function f()\n",
    "                return \"foo\", 1\n",
    "            end\n",
    "            f()\n",
    "    \n",
    "    ##  Tuples can also be unpacked directly into variables\n",
    "        ##\n",
    "        \n",
    "\n",
    "\n"
   ]
  },
  {
   "cell_type": "code",
   "execution_count": null,
   "metadata": {},
   "outputs": [],
   "source": []
  },
  {
   "cell_type": "code",
   "execution_count": null,
   "metadata": {},
   "outputs": [],
   "source": []
  },
  {
   "cell_type": "code",
   "execution_count": null,
   "metadata": {},
   "outputs": [],
   "source": []
  },
  {
   "cell_type": "code",
   "execution_count": null,
   "metadata": {},
   "outputs": [],
   "source": []
  },
  {
   "cell_type": "code",
   "execution_count": null,
   "metadata": {},
   "outputs": [],
   "source": []
  },
  {
   "cell_type": "code",
   "execution_count": null,
   "metadata": {},
   "outputs": [],
   "source": []
  },
  {
   "cell_type": "code",
   "execution_count": null,
   "metadata": {},
   "outputs": [],
   "source": []
  },
  {
   "cell_type": "code",
   "execution_count": null,
   "metadata": {},
   "outputs": [],
   "source": []
  },
  {
   "cell_type": "code",
   "execution_count": null,
   "metadata": {},
   "outputs": [],
   "source": [
    "\n"
   ]
  },
  {
   "cell_type": "code",
   "execution_count": null,
   "metadata": {},
   "outputs": [],
   "source": []
  },
  {
   "cell_type": "code",
   "execution_count": null,
   "metadata": {},
   "outputs": [],
   "source": []
  },
  {
   "cell_type": "code",
   "execution_count": null,
   "metadata": {},
   "outputs": [],
   "source": []
  },
  {
   "cell_type": "code",
   "execution_count": null,
   "metadata": {},
   "outputs": [],
   "source": []
  },
  {
   "cell_type": "code",
   "execution_count": null,
   "metadata": {},
   "outputs": [],
   "source": []
  },
  {
   "cell_type": "code",
   "execution_count": null,
   "metadata": {},
   "outputs": [],
   "source": []
  },
  {
   "cell_type": "code",
   "execution_count": null,
   "metadata": {},
   "outputs": [],
   "source": []
  },
  {
   "cell_type": "code",
   "execution_count": null,
   "metadata": {},
   "outputs": [],
   "source": []
  },
  {
   "cell_type": "code",
   "execution_count": null,
   "metadata": {},
   "outputs": [],
   "source": []
  },
  {
   "cell_type": "code",
   "execution_count": null,
   "metadata": {},
   "outputs": [],
   "source": []
  },
  {
   "cell_type": "code",
   "execution_count": null,
   "metadata": {},
   "outputs": [],
   "source": []
  },
  {
   "cell_type": "code",
   "execution_count": null,
   "metadata": {},
   "outputs": [],
   "source": []
  },
  {
   "cell_type": "code",
   "execution_count": null,
   "metadata": {},
   "outputs": [],
   "source": []
  },
  {
   "cell_type": "code",
   "execution_count": null,
   "metadata": {},
   "outputs": [],
   "source": []
  },
  {
   "cell_type": "code",
   "execution_count": null,
   "metadata": {},
   "outputs": [],
   "source": []
  },
  {
   "cell_type": "code",
   "execution_count": null,
   "metadata": {},
   "outputs": [],
   "source": []
  },
  {
   "cell_type": "code",
   "execution_count": null,
   "metadata": {},
   "outputs": [],
   "source": []
  },
  {
   "cell_type": "code",
   "execution_count": null,
   "metadata": {},
   "outputs": [],
   "source": []
  },
  {
   "cell_type": "code",
   "execution_count": null,
   "metadata": {},
   "outputs": [],
   "source": []
  },
  {
   "cell_type": "markdown",
   "metadata": {},
   "source": []
  },
  {
   "cell_type": "code",
   "execution_count": null,
   "metadata": {},
   "outputs": [],
   "source": []
  },
  {
   "cell_type": "code",
   "execution_count": null,
   "metadata": {},
   "outputs": [],
   "source": []
  }
 ],
 "metadata": {
  "kernelspec": {
   "display_name": "Julia 1.9.1",
   "language": "julia",
   "name": "julia-1.9"
  },
  "language_info": {
   "file_extension": ".jl",
   "mimetype": "application/julia",
   "name": "julia",
   "version": "1.9.1"
  },
  "orig_nbformat": 4
 },
 "nbformat": 4,
 "nbformat_minor": 2
}
