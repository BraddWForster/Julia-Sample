{
 "cells": [
  {
   "cell_type": "code",
   "execution_count": 1,
   "metadata": {},
   "outputs": [],
   "source": [
    "##  This is my first attempt of lesson 3\n",
    "    ##\n",
    "    ##  Installing packages that we need\n",
    "    using LinearAlgebra, Statistics, Plots"
   ]
  },
  {
   "cell_type": "code",
   "execution_count": 3,
   "metadata": {},
   "outputs": [],
   "source": [
    "##  We will hopefully go through:\n",
    "    ##  common data types, \n",
    "    ##  iteration,\n",
    "    ##  more user defined functions,\n",
    "    ##  comparisons and logic"
   ]
  },
  {
   "cell_type": "code",
   "execution_count": 9,
   "metadata": {},
   "outputs": [
    {
     "data": {
      "text/plain": [
       "Int64"
      ]
     },
     "metadata": {},
     "output_type": "display_data"
    }
   ],
   "source": [
    "##  Primitive data types\n",
    "    ##\n",
    "    x = true\n",
    "\n",
    "    typeof(x)\n",
    "\n",
    "    y = 1 > 2   ##  Now show false\n",
    "\n",
    "##  The two most common data types used to represent numbers are intergers and flots\n",
    "    ##\n",
    "    typeof(1.0)\n",
    "\n",
    "    typeof(1)\n"
   ]
  },
  {
   "cell_type": "code",
   "execution_count": 15,
   "metadata": {},
   "outputs": [
    {
     "name": "stdout",
     "output_type": "stream",
     "text": [
      "2x - 3y = 1.0\n",
      "x + y = 3.0\n"
     ]
    },
    {
     "data": {
      "text/plain": [
       "3.0"
      ]
     },
     "metadata": {},
     "output_type": "display_data"
    }
   ],
   "source": [
    "##  Arithmetic operators\n",
    "    ##\n",
    "    x = 2;\n",
    "    y = 1.0;\n",
    "\n",
    "    x * y\n",
    "\n",
    "    x^2\n",
    "\n",
    "    y/x\n",
    "\n",
    "    2x - 3y\n",
    "\n",
    "    @show 2x - 3y\n",
    "    @show x + y;\n"
   ]
  },
  {
   "cell_type": "code",
   "execution_count": 18,
   "metadata": {},
   "outputs": [
    {
     "data": {
      "text/plain": [
       "5 + 0im"
      ]
     },
     "metadata": {},
     "output_type": "display_data"
    }
   ],
   "source": [
    "##  Complex numbers are another primitive data type, with the imaginery part being specified by im\n",
    "    ##\n",
    "    x = 1 + 2im\n",
    "\n",
    "    y = 1 - 2im\n",
    "\n",
    "    x * y   #   complex multiplication"
   ]
  },
  {
   "cell_type": "code",
   "execution_count": 29,
   "metadata": {},
   "outputs": [
    {
     "data": {
      "text/plain": [
       "RegexMatch(\"10\", 1=\"10\")"
      ]
     },
     "metadata": {},
     "output_type": "display_data"
    }
   ],
   "source": [
    "##  Strings are another type of primitive data\n",
    "    ##\n",
    "    x = \"foobar\"\n",
    "\n",
    "    typeof(x)\n",
    "\n",
    "    ##  Julia's string formatting operations\n",
    "        ##\n",
    "        x = 10;\n",
    "        y = 20;\n",
    "\n",
    "        \"x = $x\"\n",
    "    \n",
    "    ##  With parantheses you can splic the results of expresisions into strings as well\n",
    "        ##\n",
    "        \"x + y = $(x + y)\"\n",
    "\n",
    "    ##  To concatenate strings use *\n",
    "        ##\n",
    "        \"foo\" * \"bar\"\n",
    "\n",
    "    ##  Functions to work with strings\n",
    "        ##\n",
    "        s = \"Charlie don't surf\"\n",
    "\n",
    "        split(s)\n",
    "\n",
    "        replace(s, \"surf\" => \"ski\")\n",
    "\n",
    "        split(\"fee, fi, fo\", \",\")\n",
    "\n",
    "        strip(\" foobar \")\n",
    "\n",
    "        ##  find and replace  \n",
    "            ##\n",
    "            match(r\"(\\d+)\", \"Top 10\")   #   Find digits in string"
   ]
  },
  {
   "cell_type": "code",
   "execution_count": 40,
   "metadata": {},
   "outputs": [
    {
     "name": "stdout",
     "output_type": "stream",
     "text": [
      "word =foo, val = 1\n"
     ]
    },
    {
     "data": {
      "text/plain": [
       "(Tuple{String, Int64}, Tuple{String})"
      ]
     },
     "metadata": {},
     "output_type": "display_data"
    }
   ],
   "source": [
    "##  Containers\n",
    "    ##\n",
    "    ##  Several basic types of structuress for storing data\n",
    "        ##\n",
    "        ##  Arrays\n",
    "            ##\n",
    "            x = (\"foo\", \"bar\")\n",
    "            y = (\"foo\", 2)\n",
    "\n",
    "            typeof(x)\n",
    "            typeof(y)\n",
    "\n",
    "            function f()\n",
    "                return \"foo\", 1\n",
    "            end\n",
    "            f()\n",
    "    \n",
    "    ##  Tuples can also be unpacked directly into variables\n",
    "        ##\n",
    "        x = (\"foo\", 1)\n",
    "\n",
    "        word, val = x\n",
    "        \n",
    "        println(\"word =$word, val = $val\")\n",
    "\n",
    "    ##  Tuples can be created with a hanging, this is useful to create a tuple with one element\n",
    "        ##\n",
    "        x = (\"foo\", 1)\n",
    "        y = (\"foo\",)\n",
    "        typeof(x), typeof(y)\n"
   ]
  },
  {
   "cell_type": "code",
   "execution_count": 49,
   "metadata": {},
   "outputs": [
    {
     "data": {
      "text/plain": [
       "\"obar\""
      ]
     },
     "metadata": {},
     "output_type": "display_data"
    }
   ],
   "source": []
  },
  {
   "cell_type": "code",
   "execution_count": 50,
   "metadata": {},
   "outputs": [
    {
     "data": {
      "text/plain": [
       "\"obar\""
      ]
     },
     "metadata": {},
     "output_type": "display_data"
    }
   ],
   "source": [
    "##  Referencing items\n",
    "    ##\n",
    "    x = [10, 20, 30, 40]\n",
    "\n",
    "    x[end]\n",
    "\n",
    "    x[end - 1]\n",
    "\n",
    "    x[1:3]\n",
    "\n",
    "    x[2:end]\n",
    "\n",
    "    str = \"foobar\"\n",
    "\n",
    "    str[3:end]"
   ]
  },
  {
   "cell_type": "code",
   "execution_count": 54,
   "metadata": {},
   "outputs": [
    {
     "data": {
      "text/plain": [
       "ValueIterator for a Dict{String, Any} with 2 entries. Values:\n",
       "  \"Frodo\"\n",
       "  33"
      ]
     },
     "metadata": {},
     "output_type": "display_data"
    }
   ],
   "source": [
    "##  Dictionaries\n",
    "    ##\n",
    "    ##  Dictionaries are like arrays except that the items are named instead of numbered\n",
    "        ##\n",
    "        d = Dict(\"name\" => \"Frodo\", \"age\" => 33)\n",
    "\n",
    "    d[\"age\"]\n",
    "\n",
    "    ##  the strings 'name' and 'age' are called keys\n",
    "\n",
    "    ##  They can be accessed via keys(d) and values(d)\n",
    "        ##\n",
    "        keys(d)\n",
    "        values(d)\n"
   ]
  },
  {
   "cell_type": "code",
   "execution_count": 64,
   "metadata": {},
   "outputs": [
    {
     "name": "stdout",
     "output_type": "stream",
     "text": [
      "Charlie doesn't surf\n",
      "Charlie doesn't ski\n",
      "1\n",
      "4\n",
      "9\n",
      "16\n",
      "25\n",
      "The capital of Japan is Tokyo\n",
      "The capital of Korea is Seoul\n",
      "The capital of China is Bejing\n",
      "The capital of Japan is Tokyo\n",
      "The capital of Korea is Seoul\n",
      "The capital of China is Bejing\n"
     ]
    }
   ],
   "source": [
    "##  Iterating\n",
    "    ##\n",
    "    ##  An iterable is something that you can put on the right hand side of for and loop over\n",
    "        ##\n",
    "        actions = [\"surf\", \"ski\"]\n",
    "        for action in actions\n",
    "            println(\"Charlie doesn't $action\")\n",
    "        end\n",
    "\n",
    "    ##  If you ask for the keys of dictionary you get an iterator\n",
    "        ##\n",
    "        d = Dict(\"name\" => \"Frodo\", \"age\" => 33)\n",
    "\n",
    "        keys(d)\n",
    "\n",
    "    ##  Transform an terator into an array\n",
    "        ##\n",
    "        collect(keys(d))\n",
    "\n",
    "    ##  Looping without indicies\n",
    "        ##\n",
    "        x_values = 1:5\n",
    "\n",
    "        for x in x_values\n",
    "            println(x*x)\n",
    "        end\n",
    "\n",
    "    ##  Functional-style helper functions\n",
    "        ##\n",
    "        ##  zip() is used for stepping through pairs from two sequences\n",
    "            ##\n",
    "            countries = (\"Japan\", \"Korea\", \"China\")\n",
    "            cities = (\"Tokyo\", \"Seoul\", \"Bejing\")\n",
    "            for (country, city) in zip(countries, cities)\n",
    "                println(\"The capital of $country is $city\")\n",
    "            end\n",
    "\n",
    "        ##  If you need an index as well as the value\n",
    "            ##\n",
    "            countries = (\"Japan\", \"Korea\", \"China\")\n",
    "            cities = (\"Tokyo\", \"Seoul\", \"Bejing\")\n",
    "            for (i, country) in enumerate(countries)\n",
    "                city = cities[i]\n",
    "                println(\"The capital of $country is $city\")\n",
    "            end"
   ]
  },
  {
   "cell_type": "code",
   "execution_count": 69,
   "metadata": {},
   "outputs": [
    {
     "data": {
      "text/plain": [
       "3×3×3 Array{Int64, 3}:\n",
       "[:, :, 1] =\n",
       " 12  13  14\n",
       " 13  14  15\n",
       " 14  15  16\n",
       "\n",
       "[:, :, 2] =\n",
       " 13  14  15\n",
       " 14  15  16\n",
       " 15  16  17\n",
       "\n",
       "[:, :, 3] =\n",
       " 14  15  16\n",
       " 15  16  17\n",
       " 16  17  18"
      ]
     },
     "metadata": {},
     "output_type": "display_data"
    }
   ],
   "source": [
    "##  Comprehensions\n",
    "    ##\n",
    "    ##  A tool for creating new arrays, dictionaries, etc. from iterables\n",
    "        ##\n",
    "        doubles = [2i for i in 1:4]\n",
    "\n",
    "        animals = [\"dog\", \"cat\", \"dog\"];\n",
    "\n",
    "        plurals = [animal * \"s\" for animal in animals]\n",
    "\n",
    "        [i + j for i in 1:3, j in 4:6]\n",
    "\n",
    "        [i + j + k for i in 1:3, j in 4:6, k in 7:9]\n",
    "\n",
    "        "
   ]
  }
 ],
 "metadata": {
  "kernelspec": {
   "display_name": "Julia 1.9.1",
   "language": "julia",
   "name": "julia-1.9"
  },
  "language_info": {
   "file_extension": ".jl",
   "mimetype": "application/julia",
   "name": "julia",
   "version": "1.9.1"
  },
  "orig_nbformat": 4
 },
 "nbformat": 4,
 "nbformat_minor": 2
}
